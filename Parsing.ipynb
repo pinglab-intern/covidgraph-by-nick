{
 "cells": [
  {
   "cell_type": "markdown",
   "metadata": {},
   "source": [
    "### Parsing Drugs Data\n",
    "\n",
    "This notebook Explains how to parse Drug Data obtained from Drub Bank. The DrugBank database is a unique bioinformatics and cheminformatics resource that combines detailed drug data with comprehensive drug target information. [Source](https://www.drugbank.ca/)"
   ]
  },
  {
   "cell_type": "code",
   "execution_count": 1,
   "metadata": {},
   "outputs": [],
   "source": [
    "import re\n",
    "import itertools\n",
    "import json\n",
    "import sys\n",
    "import os\n",
    "import time\n",
    "import traceback\n",
    "from lxml import etree"
   ]
  },
  {
   "cell_type": "code",
   "execution_count": 2,
   "metadata": {},
   "outputs": [],
   "source": [
    "def get_text(element, tag):\n",
    "    e = element.find(tag)\n",
    "    if e is not None:\n",
    "        return e.text\n",
    "    else:\n",
    "        return ''"
   ]
  },
  {
   "cell_type": "code",
   "execution_count": 3,
   "metadata": {},
   "outputs": [],
   "source": [
    "database = open(\"./data/fulldatabase.xml\", 'r')"
   ]
  },
  {
   "cell_type": "code",
   "execution_count": 4,
   "metadata": {},
   "outputs": [],
   "source": [
    "import xml.etree.ElementTree as ET\n",
    "tree = ET.parse(database)\n",
    "root = tree.getroot()"
   ]
  },
  {
   "cell_type": "code",
   "execution_count": 5,
   "metadata": {
    "scrolled": true
   },
   "outputs": [],
   "source": [
    "k = 0\n",
    "f = open(\"alldrugs.txt\", 'w')\n",
    "Data = []\n",
    "sdata = []\n",
    "name = None\n",
    "for drug in root:\n",
    "    k = k +1\n",
    "    name = drug.find(\"{http://www.drugbank.ca}name\")\n",
    "    if name is not None:\n",
    "        d_name = name.text  \n",
    "        line  = name.text\n",
    "    \n",
    "    state = drug.find(\"{http://www.drugbank.ca}state\")\n",
    "    if state is not None:\n",
    "        d_state = state.text\n",
    "        \n",
    "    description = drug.find(\"{http://www.drugbank.ca}description\")\n",
    "    if description is not None:\n",
    "        d_description = description.text\n",
    "        \n",
    "    indication =  drug.find(\"{http://www.drugbank.ca}indication\")\n",
    "    if indication is not None:\n",
    "        d_indication = indication.text\n",
    "        \n",
    "    #---------dosages --------\n",
    "    dosages = drug.find(\"{http://www.drugbank.ca}dosages\")\n",
    "    D = []\n",
    "    for dosage in dosages:\n",
    "        d = {}\n",
    "        for item,n in zip(dosage,[\"from\",\"route\",\"strength\"]):\n",
    "            d.update({n:item.text})\n",
    "        D.append(d)     \n",
    "    \n",
    "    #-----------------Targets -----\n",
    "    targets = drug.find(\"{http://www.drugbank.ca}targets\")\n",
    "    T = []\n",
    "    for t in targets:\n",
    "        T.append(t.text)\n",
    "\n",
    "    #----------pathways ------\n",
    "    pathways = drug.find(\"{http://www.drugbank.ca}pathways\")\n",
    "    P = []\n",
    "    for t in pathways:\n",
    "        P.append(t.text)\n",
    "    \n",
    "    #----------synonyms ----------\n",
    "    synonyms = drug.find(\"{http://www.drugbank.ca}synonyms\")\n",
    "    S = []\n",
    "    for t in synonyms:\n",
    "        S.append(t.text)\n",
    "        if len(t.text) > 3:\n",
    "            line = line + \"|\" + t.text\n",
    "        \n",
    "    sdata.append({\"name\":d_name,\\\n",
    "                 \"synonyms\":S})\n",
    "        \n",
    "    Data.append({\"name\":d_name,\\\n",
    "                \"description\":d_description,\\\n",
    "                \"state\": d_state,\\\n",
    "                \"indication\": d_indication,\\\n",
    "                \"dosages\": D,\\\n",
    "                \"synonyms\":S})\n",
    "    f.write(line)\n",
    "    f.write(\"\\n\")"
   ]
  },
  {
   "cell_type": "code",
   "execution_count": 6,
   "metadata": {},
   "outputs": [],
   "source": [
    "import json as json\n",
    "with open(\"Drugs.json\", \"w\") as f:\n",
    "    json.dump(Data,f)"
   ]
  },
  {
   "cell_type": "code",
   "execution_count": 7,
   "metadata": {},
   "outputs": [],
   "source": [
    "with open(\"syn.json\", \"w\") as f:\n",
    "    json.dump(Data,f)"
   ]
  },
  {
   "cell_type": "code",
   "execution_count": 8,
   "metadata": {},
   "outputs": [
    {
     "data": {
      "text/html": [
       "<div>\n",
       "<style scoped>\n",
       "    .dataframe tbody tr th:only-of-type {\n",
       "        vertical-align: middle;\n",
       "    }\n",
       "\n",
       "    .dataframe tbody tr th {\n",
       "        vertical-align: top;\n",
       "    }\n",
       "\n",
       "    .dataframe thead th {\n",
       "        text-align: right;\n",
       "    }\n",
       "</style>\n",
       "<table border=\"1\" class=\"dataframe\">\n",
       "  <thead>\n",
       "    <tr style=\"text-align: right;\">\n",
       "      <th></th>\n",
       "      <th>name</th>\n",
       "      <th>synonyms</th>\n",
       "    </tr>\n",
       "  </thead>\n",
       "  <tbody>\n",
       "    <tr>\n",
       "      <th>0</th>\n",
       "      <td>Lepirudin</td>\n",
       "      <td>[Hirudin variant-1, Lepirudin recombinant]</td>\n",
       "    </tr>\n",
       "    <tr>\n",
       "      <th>1</th>\n",
       "      <td>Cetuximab</td>\n",
       "      <td>[Cetuximab, Cétuximab, Cetuximabum, Immunoglob...</td>\n",
       "    </tr>\n",
       "    <tr>\n",
       "      <th>2</th>\n",
       "      <td>Dornase alfa</td>\n",
       "      <td>[Deoxyribonuclease (human clone 18-1 protein m...</td>\n",
       "    </tr>\n",
       "    <tr>\n",
       "      <th>3</th>\n",
       "      <td>Denileukin diftitox</td>\n",
       "      <td>[Denileukin, Interleukin-2/diptheria toxin fus...</td>\n",
       "    </tr>\n",
       "    <tr>\n",
       "      <th>4</th>\n",
       "      <td>Etanercept</td>\n",
       "      <td>[Etanercept-szzs, RHU TNFR:FC, RHU-TNFR:FC, TN...</td>\n",
       "    </tr>\n",
       "  </tbody>\n",
       "</table>\n",
       "</div>"
      ],
      "text/plain": [
       "                  name                                           synonyms\n",
       "0            Lepirudin         [Hirudin variant-1, Lepirudin recombinant]\n",
       "1            Cetuximab  [Cetuximab, Cétuximab, Cetuximabum, Immunoglob...\n",
       "2         Dornase alfa  [Deoxyribonuclease (human clone 18-1 protein m...\n",
       "3  Denileukin diftitox  [Denileukin, Interleukin-2/diptheria toxin fus...\n",
       "4           Etanercept  [Etanercept-szzs, RHU TNFR:FC, RHU-TNFR:FC, TN..."
      ]
     },
     "execution_count": 8,
     "metadata": {},
     "output_type": "execute_result"
    }
   ],
   "source": [
    "import pandas as pd\n",
    "DF = pd.DataFrame(sdata)\n",
    "DF.head()"
   ]
  },
  {
   "cell_type": "code",
   "execution_count": 9,
   "metadata": {},
   "outputs": [],
   "source": [
    "DF.to_csv(\"syn.csv\")"
   ]
  },
  {
   "cell_type": "code",
   "execution_count": 10,
   "metadata": {},
   "outputs": [
    {
     "data": {
      "text/plain": [
       "(11922, 2)"
      ]
     },
     "execution_count": 10,
     "metadata": {},
     "output_type": "execute_result"
    }
   ],
   "source": [
    "DF.shape"
   ]
  },
  {
   "cell_type": "code",
   "execution_count": 11,
   "metadata": {},
   "outputs": [],
   "source": [
    "import pandas as pd\n",
    "import json as json\n",
    "\n",
    "with open(\"Drugs.json\",'r')as ff:\n",
    "    Data = json.load(ff)"
   ]
  },
  {
   "cell_type": "code",
   "execution_count": 12,
   "metadata": {},
   "outputs": [
    {
     "data": {
      "text/html": [
       "<div>\n",
       "<style scoped>\n",
       "    .dataframe tbody tr th:only-of-type {\n",
       "        vertical-align: middle;\n",
       "    }\n",
       "\n",
       "    .dataframe tbody tr th {\n",
       "        vertical-align: top;\n",
       "    }\n",
       "\n",
       "    .dataframe thead th {\n",
       "        text-align: right;\n",
       "    }\n",
       "</style>\n",
       "<table border=\"1\" class=\"dataframe\">\n",
       "  <thead>\n",
       "    <tr style=\"text-align: right;\">\n",
       "      <th></th>\n",
       "      <th>description</th>\n",
       "      <th>dosages</th>\n",
       "      <th>indication</th>\n",
       "      <th>name</th>\n",
       "      <th>state</th>\n",
       "      <th>synonyms</th>\n",
       "    </tr>\n",
       "  </thead>\n",
       "  <tbody>\n",
       "    <tr>\n",
       "      <th>0</th>\n",
       "      <td>Lepirudin is identical to natural hirudin exce...</td>\n",
       "      <td>[{'from': 'Injection, solution, concentrate', ...</td>\n",
       "      <td>For the treatment of heparin-induced thrombocy...</td>\n",
       "      <td>Lepirudin</td>\n",
       "      <td>liquid</td>\n",
       "      <td>[Hirudin variant-1, Lepirudin recombinant]</td>\n",
       "    </tr>\n",
       "    <tr>\n",
       "      <th>1</th>\n",
       "      <td>Cetuximab is an epidermal growth factor recept...</td>\n",
       "      <td>[{'from': 'Injection, solution', 'route': 'Int...</td>\n",
       "      <td>Cetuximab, used in combination with irinotecan...</td>\n",
       "      <td>Cetuximab</td>\n",
       "      <td>liquid</td>\n",
       "      <td>[Cetuximab, Cétuximab, Cetuximabum, Immunoglob...</td>\n",
       "    </tr>\n",
       "    <tr>\n",
       "      <th>2</th>\n",
       "      <td>Dornase alfa is a biosynthetic form of human d...</td>\n",
       "      <td>[{'from': 'Solution', 'route': 'Respiratory (i...</td>\n",
       "      <td>Used as adjunct therapy in the treatment of cy...</td>\n",
       "      <td>Dornase alfa</td>\n",
       "      <td>liquid</td>\n",
       "      <td>[Deoxyribonuclease (human clone 18-1 protein m...</td>\n",
       "    </tr>\n",
       "    <tr>\n",
       "      <th>3</th>\n",
       "      <td>A recombinant DNA-derived cytotoxic protein co...</td>\n",
       "      <td>[{'from': 'Injection, solution', 'route': 'Int...</td>\n",
       "      <td>For treatment of cutaneous T-cell lymphoma</td>\n",
       "      <td>Denileukin diftitox</td>\n",
       "      <td>liquid</td>\n",
       "      <td>[Denileukin, Interleukin-2/diptheria toxin fus...</td>\n",
       "    </tr>\n",
       "    <tr>\n",
       "      <th>4</th>\n",
       "      <td>Dimeric fusion protein consisting of the extra...</td>\n",
       "      <td>[{'from': 'Injection, powder, for solution', '...</td>\n",
       "      <td>Etanercept is indicated for the treatment of m...</td>\n",
       "      <td>Etanercept</td>\n",
       "      <td>liquid</td>\n",
       "      <td>[Etanercept-szzs, RHU TNFR:FC, RHU-TNFR:FC, TN...</td>\n",
       "    </tr>\n",
       "  </tbody>\n",
       "</table>\n",
       "</div>"
      ],
      "text/plain": [
       "                                         description  \\\n",
       "0  Lepirudin is identical to natural hirudin exce...   \n",
       "1  Cetuximab is an epidermal growth factor recept...   \n",
       "2  Dornase alfa is a biosynthetic form of human d...   \n",
       "3  A recombinant DNA-derived cytotoxic protein co...   \n",
       "4  Dimeric fusion protein consisting of the extra...   \n",
       "\n",
       "                                             dosages  \\\n",
       "0  [{'from': 'Injection, solution, concentrate', ...   \n",
       "1  [{'from': 'Injection, solution', 'route': 'Int...   \n",
       "2  [{'from': 'Solution', 'route': 'Respiratory (i...   \n",
       "3  [{'from': 'Injection, solution', 'route': 'Int...   \n",
       "4  [{'from': 'Injection, powder, for solution', '...   \n",
       "\n",
       "                                          indication                 name  \\\n",
       "0  For the treatment of heparin-induced thrombocy...            Lepirudin   \n",
       "1  Cetuximab, used in combination with irinotecan...            Cetuximab   \n",
       "2  Used as adjunct therapy in the treatment of cy...         Dornase alfa   \n",
       "3         For treatment of cutaneous T-cell lymphoma  Denileukin diftitox   \n",
       "4  Etanercept is indicated for the treatment of m...           Etanercept   \n",
       "\n",
       "    state                                           synonyms  \n",
       "0  liquid         [Hirudin variant-1, Lepirudin recombinant]  \n",
       "1  liquid  [Cetuximab, Cétuximab, Cetuximabum, Immunoglob...  \n",
       "2  liquid  [Deoxyribonuclease (human clone 18-1 protein m...  \n",
       "3  liquid  [Denileukin, Interleukin-2/diptheria toxin fus...  \n",
       "4  liquid  [Etanercept-szzs, RHU TNFR:FC, RHU-TNFR:FC, TN...  "
      ]
     },
     "execution_count": 12,
     "metadata": {},
     "output_type": "execute_result"
    }
   ],
   "source": [
    "import pandas as pd\n",
    "DF = pd.DataFrame(Data)\n",
    "DF.head()"
   ]
  },
  {
   "cell_type": "code",
   "execution_count": 13,
   "metadata": {},
   "outputs": [],
   "source": [
    "DF = DF.set_index(\"name\")"
   ]
  },
  {
   "cell_type": "code",
   "execution_count": 14,
   "metadata": {},
   "outputs": [],
   "source": [
    "DF.to_csv(\"Drugsall.csv\")"
   ]
  }
 ],
 "metadata": {
  "kernelspec": {
   "display_name": "Python 3",
   "language": "python",
   "name": "python3"
  },
  "language_info": {
   "codemirror_mode": {
    "name": "ipython",
    "version": 3
   },
   "file_extension": ".py",
   "mimetype": "text/x-python",
   "name": "python",
   "nbconvert_exporter": "python",
   "pygments_lexer": "ipython3",
   "version": "3.6.6"
  }
 },
 "nbformat": 4,
 "nbformat_minor": 2
}
